{
 "cells": [
  {
   "cell_type": "markdown",
   "id": "94a6808a",
   "metadata": {},
   "source": [
    "# Data Science Tools and Ecosystem"
   ]
  },
  {
   "cell_type": "markdown",
   "id": "9a684fd7",
   "metadata": {},
   "source": [
    "In this notebook, Data Science Tools and Ecosystem are summarized."
   ]
  },
  {
   "cell_type": "markdown",
   "id": "ce43c5c1",
   "metadata": {},
   "source": [
    "**Objectives**\n",
    "\n",
    "* List popular languages for Data Science\n",
    "* List popular libraries for Data Science\n",
    "* List some open source tools used for Data Science"
   ]
  },
  {
   "cell_type": "markdown",
   "id": "dacbda87",
   "metadata": {},
   "source": [
    "Some of the popular languages that Data Scientists use are:\n",
    "\n",
    "1. Python\n",
    "2. R\n",
    "3. SQL\n",
    "4. Java\n",
    "5. C++"
   ]
  },
  {
   "cell_type": "markdown",
   "id": "2e24ddd3",
   "metadata": {},
   "source": [
    "Some of the commonly used libraries used by Data Scientists include:\n",
    "\n",
    "1. Pandas\n",
    "2. Numpy\n",
    "3. Matplotlib\n",
    "4. Seaborn\n",
    "5. TensorFlow\n",
    "6. ggplot"
   ]
  },
  {
   "cell_type": "markdown",
   "id": "545b674e",
   "metadata": {},
   "source": [
    "Data Science Tools |\n",
    "-----------------------\n",
    "Github|\n",
    "Apache Hadoop|\n",
    "Apache Spark|"
   ]
  },
  {
   "cell_type": "markdown",
   "id": "6263b565",
   "metadata": {},
   "source": [
    "### Below are a few examples of evaluating arithmetic expressions in Python:\n",
    "\n",
    "- F(x) = $\\int_{0}^x e^{t^2} dt$\n",
    "- $E = mc^2$\n",
    "- $\\frac{\\partial y}{\\partial x} = yx$"
   ]
  },
  {
   "cell_type": "code",
   "execution_count": 2,
   "id": "37b5ae44",
   "metadata": {},
   "outputs": [
    {
     "data": {
      "text/plain": [
       "54"
      ]
     },
     "execution_count": 2,
     "metadata": {},
     "output_type": "execute_result"
    }
   ],
   "source": [
    "#This function will return the squared of a number and then plus 5\n",
    "def f(x):\n",
    "    return x**2 +5\n",
    "\n",
    "f(7)"
   ]
  },
  {
   "cell_type": "code",
   "execution_count": 3,
   "id": "daad84ff",
   "metadata": {},
   "outputs": [
    {
     "data": {
      "text/plain": [
       "2.0"
      ]
     },
     "execution_count": 3,
     "metadata": {},
     "output_type": "execute_result"
    }
   ],
   "source": [
    "#This function will convert x minutes to hours\n",
    "def g(x):\n",
    "    return x/60\n",
    "\n",
    "g(120)"
   ]
  },
  {
   "cell_type": "markdown",
   "id": "d3bcc5e5",
   "metadata": {},
   "source": [
    "## Author\n",
    "Alberth Pinco Bravo"
   ]
  },
  {
   "cell_type": "code",
   "execution_count": null,
   "id": "230a47e9",
   "metadata": {},
   "outputs": [],
   "source": []
  }
 ],
 "metadata": {
  "kernelspec": {
   "display_name": "Python 3 (ipykernel)",
   "language": "python",
   "name": "python3"
  },
  "language_info": {
   "codemirror_mode": {
    "name": "ipython",
    "version": 3
   },
   "file_extension": ".py",
   "mimetype": "text/x-python",
   "name": "python",
   "nbconvert_exporter": "python",
   "pygments_lexer": "ipython3",
   "version": "3.11.4"
  }
 },
 "nbformat": 4,
 "nbformat_minor": 5
}
